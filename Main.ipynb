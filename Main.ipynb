{
 "cells": [
  {
   "cell_type": "code",
   "execution_count": 1,
   "metadata": {},
   "outputs": [],
   "source": [
    "import pandas as pd\n",
    "import numpy as np\n",
    "import matplotlib as plt\n",
    "%matplotlib inline\n",
    "from sklearn.preprocessing import StandardScaler\n",
    "import matplotlib.pyplot as plt\n",
    "from mpl_toolkits.mplot3d import Axes3D\n",
    "\n"
   ]
  },
  {
   "cell_type": "code",
   "execution_count": 2,
   "metadata": {},
   "outputs": [],
   "source": [
    "df1 = pd.read_csv(\"0x10c.csv\")"
   ]
  },
  {
   "cell_type": "code",
   "execution_count": 3,
   "metadata": {
    "scrolled": false
   },
   "outputs": [
    {
     "data": {
      "text/html": [
       "<div>\n",
       "<style scoped>\n",
       "    .dataframe tbody tr th:only-of-type {\n",
       "        vertical-align: middle;\n",
       "    }\n",
       "\n",
       "    .dataframe tbody tr th {\n",
       "        vertical-align: top;\n",
       "    }\n",
       "\n",
       "    .dataframe thead th {\n",
       "        text-align: right;\n",
       "    }\n",
       "</style>\n",
       "<table border=\"1\" class=\"dataframe\">\n",
       "  <thead>\n",
       "    <tr style=\"text-align: right;\">\n",
       "      <th></th>\n",
       "      <th>created_utc</th>\n",
       "      <th>score</th>\n",
       "      <th>domain</th>\n",
       "      <th>id</th>\n",
       "      <th>title</th>\n",
       "      <th>ups</th>\n",
       "      <th>downs</th>\n",
       "      <th>num_comments</th>\n",
       "      <th>permalink</th>\n",
       "      <th>selftext</th>\n",
       "      <th>...</th>\n",
       "      <th>subreddit_id</th>\n",
       "      <th>edited</th>\n",
       "      <th>link_flair_css_class</th>\n",
       "      <th>author_flair_css_class</th>\n",
       "      <th>is_self</th>\n",
       "      <th>name</th>\n",
       "      <th>url</th>\n",
       "      <th>distinguished</th>\n",
       "      <th>Ranking</th>\n",
       "      <th>Unnamed: 22</th>\n",
       "    </tr>\n",
       "  </thead>\n",
       "  <tbody>\n",
       "    <tr>\n",
       "      <th>0</th>\n",
       "      <td>1345107919</td>\n",
       "      <td>430</td>\n",
       "      <td>self.0x10c</td>\n",
       "      <td>yb94y</td>\n",
       "      <td>The reason for slow</td>\n",
       "      <td>504</td>\n",
       "      <td>74</td>\n",
       "      <td>134</td>\n",
       "      <td>http://www.reddit.com/r/0x10c/comments/yb94y/t...</td>\n",
       "      <td>If you saw my tweet yesterday about being sing...</td>\n",
       "      <td>...</td>\n",
       "      <td>t5_2tu92</td>\n",
       "      <td>False</td>\n",
       "      <td>NaN</td>\n",
       "      <td>NaN</td>\n",
       "      <td>True</td>\n",
       "      <td>t3_yb94y</td>\n",
       "      <td>http://www.reddit.com/r/0x10c/comments/yb94y/t...</td>\n",
       "      <td>NaN</td>\n",
       "      <td>1</td>\n",
       "      <td>NaN</td>\n",
       "    </tr>\n",
       "    <tr>\n",
       "      <th>1</th>\n",
       "      <td>1349284077</td>\n",
       "      <td>324</td>\n",
       "      <td>youtube.com</td>\n",
       "      <td>10vto2</td>\n",
       "      <td>Notch posted a demonstration of the game - \"Ph...</td>\n",
       "      <td>352</td>\n",
       "      <td>28</td>\n",
       "      <td>209</td>\n",
       "      <td>http://www.reddit.com/r/0x10c/comments/10vto2/...</td>\n",
       "      <td>NaN</td>\n",
       "      <td>...</td>\n",
       "      <td>t5_2tu92</td>\n",
       "      <td>False</td>\n",
       "      <td>NaN</td>\n",
       "      <td>NaN</td>\n",
       "      <td>False</td>\n",
       "      <td>t3_10vto2</td>\n",
       "      <td>http://www.youtube.com/watch?v=49mUfXxDG48</td>\n",
       "      <td>NaN</td>\n",
       "      <td>2</td>\n",
       "      <td>NaN</td>\n",
       "    </tr>\n",
       "    <tr>\n",
       "      <th>2</th>\n",
       "      <td>1358788919</td>\n",
       "      <td>311</td>\n",
       "      <td>i.imgur.com</td>\n",
       "      <td>16zwv4</td>\n",
       "      <td>Hey, i froze myself so we can be together always!</td>\n",
       "      <td>379</td>\n",
       "      <td>68</td>\n",
       "      <td>5</td>\n",
       "      <td>http://www.reddit.com/r/0x10c/comments/16zwv4/...</td>\n",
       "      <td>NaN</td>\n",
       "      <td>...</td>\n",
       "      <td>t5_2tu92</td>\n",
       "      <td>False</td>\n",
       "      <td>NaN</td>\n",
       "      <td>NaN</td>\n",
       "      <td>False</td>\n",
       "      <td>t3_16zwv4</td>\n",
       "      <td>http://i.imgur.com/iD6HeVL.png</td>\n",
       "      <td>NaN</td>\n",
       "      <td>3</td>\n",
       "      <td>NaN</td>\n",
       "    </tr>\n",
       "    <tr>\n",
       "      <th>3</th>\n",
       "      <td>1350053607</td>\n",
       "      <td>298</td>\n",
       "      <td>youtube.com</td>\n",
       "      <td>11d8ih</td>\n",
       "      <td>New art test and dynamic lights for 0x10c</td>\n",
       "      <td>317</td>\n",
       "      <td>19</td>\n",
       "      <td>98</td>\n",
       "      <td>http://www.reddit.com/r/0x10c/comments/11d8ih/...</td>\n",
       "      <td>NaN</td>\n",
       "      <td>...</td>\n",
       "      <td>t5_2tu92</td>\n",
       "      <td>False</td>\n",
       "      <td>NaN</td>\n",
       "      <td>NaN</td>\n",
       "      <td>False</td>\n",
       "      <td>t3_11d8ih</td>\n",
       "      <td>http://www.youtube.com/watch?v=nYojT0Xgt9Y</td>\n",
       "      <td>NaN</td>\n",
       "      <td>4</td>\n",
       "      <td>NaN</td>\n",
       "    </tr>\n",
       "    <tr>\n",
       "      <th>4</th>\n",
       "      <td>1339213638</td>\n",
       "      <td>295</td>\n",
       "      <td>i.imgur.com</td>\n",
       "      <td>usp9b</td>\n",
       "      <td>Not being a programmer in 0x10c</td>\n",
       "      <td>333</td>\n",
       "      <td>38</td>\n",
       "      <td>34</td>\n",
       "      <td>http://www.reddit.com/r/0x10c/comments/usp9b/n...</td>\n",
       "      <td>NaN</td>\n",
       "      <td>...</td>\n",
       "      <td>t5_2tu92</td>\n",
       "      <td>False</td>\n",
       "      <td>NaN</td>\n",
       "      <td>NaN</td>\n",
       "      <td>False</td>\n",
       "      <td>t3_usp9b</td>\n",
       "      <td>http://i.imgur.com/SCaPS.gif</td>\n",
       "      <td>NaN</td>\n",
       "      <td>5</td>\n",
       "      <td>NaN</td>\n",
       "    </tr>\n",
       "    <tr>\n",
       "      <th>5</th>\n",
       "      <td>1359073848</td>\n",
       "      <td>289</td>\n",
       "      <td>imgur.com</td>\n",
       "      <td>1783gj</td>\n",
       "      <td>Got impatient. Made my own concept art.</td>\n",
       "      <td>321</td>\n",
       "      <td>32</td>\n",
       "      <td>47</td>\n",
       "      <td>http://www.reddit.com/r/0x10c/comments/1783gj/...</td>\n",
       "      <td>NaN</td>\n",
       "      <td>...</td>\n",
       "      <td>t5_2tu92</td>\n",
       "      <td>False</td>\n",
       "      <td>NaN</td>\n",
       "      <td>NaN</td>\n",
       "      <td>False</td>\n",
       "      <td>t3_1783gj</td>\n",
       "      <td>http://imgur.com/mzDIex1</td>\n",
       "      <td>NaN</td>\n",
       "      <td>6</td>\n",
       "      <td>NaN</td>\n",
       "    </tr>\n",
       "    <tr>\n",
       "      <th>6</th>\n",
       "      <td>1349368875</td>\n",
       "      <td>288</td>\n",
       "      <td>youtube.com</td>\n",
       "      <td>10xykl</td>\n",
       "      <td>My video brightness fix test video</td>\n",
       "      <td>344</td>\n",
       "      <td>56</td>\n",
       "      <td>84</td>\n",
       "      <td>http://www.reddit.com/r/0x10c/comments/10xykl/...</td>\n",
       "      <td>NaN</td>\n",
       "      <td>...</td>\n",
       "      <td>t5_2tu92</td>\n",
       "      <td>False</td>\n",
       "      <td>NaN</td>\n",
       "      <td>NaN</td>\n",
       "      <td>False</td>\n",
       "      <td>t3_10xykl</td>\n",
       "      <td>http://www.youtube.com/watch?v=v7nEsUA5JGo</td>\n",
       "      <td>NaN</td>\n",
       "      <td>7</td>\n",
       "      <td>NaN</td>\n",
       "    </tr>\n",
       "    <tr>\n",
       "      <th>7</th>\n",
       "      <td>1353974008</td>\n",
       "      <td>286</td>\n",
       "      <td>0x10c.com</td>\n",
       "      <td>13uapp</td>\n",
       "      <td>At Minecon one of the Mojang guys told me that...</td>\n",
       "      <td>313</td>\n",
       "      <td>27</td>\n",
       "      <td>329</td>\n",
       "      <td>http://www.reddit.com/r/0x10c/comments/13uapp/...</td>\n",
       "      <td>NaN</td>\n",
       "      <td>...</td>\n",
       "      <td>t5_2tu92</td>\n",
       "      <td>False</td>\n",
       "      <td>NaN</td>\n",
       "      <td>NaN</td>\n",
       "      <td>False</td>\n",
       "      <td>t3_13uapp</td>\n",
       "      <td>http://0x10c.com/wp-content/uploads/2012/10/DC...</td>\n",
       "      <td>NaN</td>\n",
       "      <td>8</td>\n",
       "      <td>NaN</td>\n",
       "    </tr>\n",
       "    <tr>\n",
       "      <th>8</th>\n",
       "      <td>1351178477</td>\n",
       "      <td>264</td>\n",
       "      <td>i.imgur.com</td>\n",
       "      <td>122hjs</td>\n",
       "      <td>0x10c's artist posted a mockup for what the ga...</td>\n",
       "      <td>284</td>\n",
       "      <td>20</td>\n",
       "      <td>139</td>\n",
       "      <td>http://www.reddit.com/r/0x10c/comments/122hjs/...</td>\n",
       "      <td>NaN</td>\n",
       "      <td>...</td>\n",
       "      <td>t5_2tu92</td>\n",
       "      <td>False</td>\n",
       "      <td>NaN</td>\n",
       "      <td>NaN</td>\n",
       "      <td>False</td>\n",
       "      <td>t3_122hjs</td>\n",
       "      <td>http://i.imgur.com/akByX.jpg</td>\n",
       "      <td>NaN</td>\n",
       "      <td>9</td>\n",
       "      <td>NaN</td>\n",
       "    </tr>\n",
       "    <tr>\n",
       "      <th>9</th>\n",
       "      <td>1358774132</td>\n",
       "      <td>261</td>\n",
       "      <td>i.imgur.com</td>\n",
       "      <td>16zj9b</td>\n",
       "      <td>Notch in 0x10c</td>\n",
       "      <td>289</td>\n",
       "      <td>28</td>\n",
       "      <td>40</td>\n",
       "      <td>http://www.reddit.com/r/0x10c/comments/16zj9b/...</td>\n",
       "      <td>NaN</td>\n",
       "      <td>...</td>\n",
       "      <td>t5_2tu92</td>\n",
       "      <td>False</td>\n",
       "      <td>NaN</td>\n",
       "      <td>NaN</td>\n",
       "      <td>False</td>\n",
       "      <td>t3_16zj9b</td>\n",
       "      <td>http://i.imgur.com/7gp4m2a.png</td>\n",
       "      <td>NaN</td>\n",
       "      <td>10</td>\n",
       "      <td>NaN</td>\n",
       "    </tr>\n",
       "  </tbody>\n",
       "</table>\n",
       "<p>10 rows × 23 columns</p>\n",
       "</div>"
      ],
      "text/plain": [
       "   created_utc  score       domain      id  \\\n",
       "0   1345107919    430   self.0x10c   yb94y   \n",
       "1   1349284077    324  youtube.com  10vto2   \n",
       "2   1358788919    311  i.imgur.com  16zwv4   \n",
       "3   1350053607    298  youtube.com  11d8ih   \n",
       "4   1339213638    295  i.imgur.com   usp9b   \n",
       "5   1359073848    289    imgur.com  1783gj   \n",
       "6   1349368875    288  youtube.com  10xykl   \n",
       "7   1353974008    286    0x10c.com  13uapp   \n",
       "8   1351178477    264  i.imgur.com  122hjs   \n",
       "9   1358774132    261  i.imgur.com  16zj9b   \n",
       "\n",
       "                                               title  ups  downs  \\\n",
       "0                                The reason for slow  504     74   \n",
       "1  Notch posted a demonstration of the game - \"Ph...  352     28   \n",
       "2  Hey, i froze myself so we can be together always!  379     68   \n",
       "3          New art test and dynamic lights for 0x10c  317     19   \n",
       "4                    Not being a programmer in 0x10c  333     38   \n",
       "5            Got impatient. Made my own concept art.  321     32   \n",
       "6                 My video brightness fix test video  344     56   \n",
       "7  At Minecon one of the Mojang guys told me that...  313     27   \n",
       "8  0x10c's artist posted a mockup for what the ga...  284     20   \n",
       "9                                     Notch in 0x10c  289     28   \n",
       "\n",
       "   num_comments                                          permalink  \\\n",
       "0           134  http://www.reddit.com/r/0x10c/comments/yb94y/t...   \n",
       "1           209  http://www.reddit.com/r/0x10c/comments/10vto2/...   \n",
       "2             5  http://www.reddit.com/r/0x10c/comments/16zwv4/...   \n",
       "3            98  http://www.reddit.com/r/0x10c/comments/11d8ih/...   \n",
       "4            34  http://www.reddit.com/r/0x10c/comments/usp9b/n...   \n",
       "5            47  http://www.reddit.com/r/0x10c/comments/1783gj/...   \n",
       "6            84  http://www.reddit.com/r/0x10c/comments/10xykl/...   \n",
       "7           329  http://www.reddit.com/r/0x10c/comments/13uapp/...   \n",
       "8           139  http://www.reddit.com/r/0x10c/comments/122hjs/...   \n",
       "9            40  http://www.reddit.com/r/0x10c/comments/16zj9b/...   \n",
       "\n",
       "                                            selftext  ... subreddit_id edited  \\\n",
       "0  If you saw my tweet yesterday about being sing...  ...     t5_2tu92  False   \n",
       "1                                                NaN  ...     t5_2tu92  False   \n",
       "2                                                NaN  ...     t5_2tu92  False   \n",
       "3                                                NaN  ...     t5_2tu92  False   \n",
       "4                                                NaN  ...     t5_2tu92  False   \n",
       "5                                                NaN  ...     t5_2tu92  False   \n",
       "6                                                NaN  ...     t5_2tu92  False   \n",
       "7                                                NaN  ...     t5_2tu92  False   \n",
       "8                                                NaN  ...     t5_2tu92  False   \n",
       "9                                                NaN  ...     t5_2tu92  False   \n",
       "\n",
       "  link_flair_css_class author_flair_css_class is_self       name  \\\n",
       "0                  NaN                    NaN    True   t3_yb94y   \n",
       "1                  NaN                    NaN   False  t3_10vto2   \n",
       "2                  NaN                    NaN   False  t3_16zwv4   \n",
       "3                  NaN                    NaN   False  t3_11d8ih   \n",
       "4                  NaN                    NaN   False   t3_usp9b   \n",
       "5                  NaN                    NaN   False  t3_1783gj   \n",
       "6                  NaN                    NaN   False  t3_10xykl   \n",
       "7                  NaN                    NaN   False  t3_13uapp   \n",
       "8                  NaN                    NaN   False  t3_122hjs   \n",
       "9                  NaN                    NaN   False  t3_16zj9b   \n",
       "\n",
       "                                                 url distinguished Ranking  \\\n",
       "0  http://www.reddit.com/r/0x10c/comments/yb94y/t...           NaN       1   \n",
       "1         http://www.youtube.com/watch?v=49mUfXxDG48           NaN       2   \n",
       "2                     http://i.imgur.com/iD6HeVL.png           NaN       3   \n",
       "3         http://www.youtube.com/watch?v=nYojT0Xgt9Y           NaN       4   \n",
       "4                       http://i.imgur.com/SCaPS.gif           NaN       5   \n",
       "5                           http://imgur.com/mzDIex1           NaN       6   \n",
       "6         http://www.youtube.com/watch?v=v7nEsUA5JGo           NaN       7   \n",
       "7  http://0x10c.com/wp-content/uploads/2012/10/DC...           NaN       8   \n",
       "8                       http://i.imgur.com/akByX.jpg           NaN       9   \n",
       "9                     http://i.imgur.com/7gp4m2a.png           NaN      10   \n",
       "\n",
       "  Unnamed: 22  \n",
       "0         NaN  \n",
       "1         NaN  \n",
       "2         NaN  \n",
       "3         NaN  \n",
       "4         NaN  \n",
       "5         NaN  \n",
       "6         NaN  \n",
       "7         NaN  \n",
       "8         NaN  \n",
       "9         NaN  \n",
       "\n",
       "[10 rows x 23 columns]"
      ]
     },
     "execution_count": 3,
     "metadata": {},
     "output_type": "execute_result"
    }
   ],
   "source": [
    "df1.head(10)"
   ]
  },
  {
   "cell_type": "code",
   "execution_count": 4,
   "metadata": {},
   "outputs": [],
   "source": [
    "df1 = df1.drop([\"Unnamed: 22\",\"created_utc\",\"is_self\",\"domain\", \"id\",\"title\",\"permalink\",\"selftext\",\"over_18\",\"thumbnail\",\"subreddit_id\",\"edited\",\"link_flair_css_class\",\"author_flair_css_class\",\"name\",\"url\",\"distinguished\",\"link_flair_text\"],axis=1)"
   ]
  },
  {
   "cell_type": "code",
   "execution_count": 5,
   "metadata": {},
   "outputs": [],
   "source": [
    "df2=df1"
   ]
  },
  {
   "cell_type": "code",
   "execution_count": 6,
   "metadata": {},
   "outputs": [
    {
     "data": {
      "text/html": [
       "<div>\n",
       "<style scoped>\n",
       "    .dataframe tbody tr th:only-of-type {\n",
       "        vertical-align: middle;\n",
       "    }\n",
       "\n",
       "    .dataframe tbody tr th {\n",
       "        vertical-align: top;\n",
       "    }\n",
       "\n",
       "    .dataframe thead th {\n",
       "        text-align: right;\n",
       "    }\n",
       "</style>\n",
       "<table border=\"1\" class=\"dataframe\">\n",
       "  <thead>\n",
       "    <tr style=\"text-align: right;\">\n",
       "      <th></th>\n",
       "      <th>score</th>\n",
       "      <th>ups</th>\n",
       "      <th>downs</th>\n",
       "      <th>num_comments</th>\n",
       "      <th>Ranking</th>\n",
       "    </tr>\n",
       "  </thead>\n",
       "  <tbody>\n",
       "    <tr>\n",
       "      <th>0</th>\n",
       "      <td>430</td>\n",
       "      <td>504</td>\n",
       "      <td>74</td>\n",
       "      <td>134</td>\n",
       "      <td>1</td>\n",
       "    </tr>\n",
       "    <tr>\n",
       "      <th>1</th>\n",
       "      <td>324</td>\n",
       "      <td>352</td>\n",
       "      <td>28</td>\n",
       "      <td>209</td>\n",
       "      <td>2</td>\n",
       "    </tr>\n",
       "    <tr>\n",
       "      <th>2</th>\n",
       "      <td>311</td>\n",
       "      <td>379</td>\n",
       "      <td>68</td>\n",
       "      <td>5</td>\n",
       "      <td>3</td>\n",
       "    </tr>\n",
       "    <tr>\n",
       "      <th>3</th>\n",
       "      <td>298</td>\n",
       "      <td>317</td>\n",
       "      <td>19</td>\n",
       "      <td>98</td>\n",
       "      <td>4</td>\n",
       "    </tr>\n",
       "    <tr>\n",
       "      <th>4</th>\n",
       "      <td>295</td>\n",
       "      <td>333</td>\n",
       "      <td>38</td>\n",
       "      <td>34</td>\n",
       "      <td>5</td>\n",
       "    </tr>\n",
       "    <tr>\n",
       "      <th>5</th>\n",
       "      <td>289</td>\n",
       "      <td>321</td>\n",
       "      <td>32</td>\n",
       "      <td>47</td>\n",
       "      <td>6</td>\n",
       "    </tr>\n",
       "    <tr>\n",
       "      <th>6</th>\n",
       "      <td>288</td>\n",
       "      <td>344</td>\n",
       "      <td>56</td>\n",
       "      <td>84</td>\n",
       "      <td>7</td>\n",
       "    </tr>\n",
       "    <tr>\n",
       "      <th>7</th>\n",
       "      <td>286</td>\n",
       "      <td>313</td>\n",
       "      <td>27</td>\n",
       "      <td>329</td>\n",
       "      <td>8</td>\n",
       "    </tr>\n",
       "    <tr>\n",
       "      <th>8</th>\n",
       "      <td>264</td>\n",
       "      <td>284</td>\n",
       "      <td>20</td>\n",
       "      <td>139</td>\n",
       "      <td>9</td>\n",
       "    </tr>\n",
       "    <tr>\n",
       "      <th>9</th>\n",
       "      <td>261</td>\n",
       "      <td>289</td>\n",
       "      <td>28</td>\n",
       "      <td>40</td>\n",
       "      <td>10</td>\n",
       "    </tr>\n",
       "  </tbody>\n",
       "</table>\n",
       "</div>"
      ],
      "text/plain": [
       "   score  ups  downs  num_comments  Ranking\n",
       "0    430  504     74           134        1\n",
       "1    324  352     28           209        2\n",
       "2    311  379     68             5        3\n",
       "3    298  317     19            98        4\n",
       "4    295  333     38            34        5\n",
       "5    289  321     32            47        6\n",
       "6    288  344     56            84        7\n",
       "7    286  313     27           329        8\n",
       "8    264  284     20           139        9\n",
       "9    261  289     28            40       10"
      ]
     },
     "execution_count": 6,
     "metadata": {},
     "output_type": "execute_result"
    }
   ],
   "source": [
    "df2.head(10)"
   ]
  },
  {
   "cell_type": "code",
   "execution_count": 7,
   "metadata": {},
   "outputs": [
    {
     "data": {
      "text/plain": [
       "999"
      ]
     },
     "execution_count": 7,
     "metadata": {},
     "output_type": "execute_result"
    }
   ],
   "source": [
    "len(df1)"
   ]
  },
  {
   "cell_type": "code",
   "execution_count": 8,
   "metadata": {},
   "outputs": [],
   "source": [
    "df1[\"score\"]=((df1[\"score\"]-df1[\"score\"].min())/(df1[\"score\"].max()-df1[\"score\"].min()))*100"
   ]
  },
  {
   "cell_type": "code",
   "execution_count": 9,
   "metadata": {},
   "outputs": [],
   "source": [
    "df1[\"num_comments\"]=((df1[\"num_comments\"]-df1[\"num_comments\"].min())/(df1[\"num_comments\"].max()-df1[\"num_comments\"].min()))*100"
   ]
  },
  {
   "cell_type": "code",
   "execution_count": 10,
   "metadata": {},
   "outputs": [],
   "source": [
    "df1[\"downs\"]=((df1[\"downs\"]-df1[\"downs\"].min())/(df1[\"downs\"].max()-df1[\"downs\"].min()))*100"
   ]
  },
  {
   "cell_type": "code",
   "execution_count": 11,
   "metadata": {},
   "outputs": [
    {
     "data": {
      "text/plain": [
       "score           float64\n",
       "ups               int64\n",
       "downs           float64\n",
       "num_comments    float64\n",
       "Ranking           int64\n",
       "dtype: object"
      ]
     },
     "execution_count": 11,
     "metadata": {},
     "output_type": "execute_result"
    }
   ],
   "source": [
    "df1.dtypes\n"
   ]
  },
  {
   "cell_type": "code",
   "execution_count": 12,
   "metadata": {},
   "outputs": [],
   "source": [
    "df1[['ups']] = df1[['ups']].astype('float64')\n"
   ]
  },
  {
   "cell_type": "code",
   "execution_count": 13,
   "metadata": {},
   "outputs": [
    {
     "data": {
      "text/html": [
       "<div>\n",
       "<style scoped>\n",
       "    .dataframe tbody tr th:only-of-type {\n",
       "        vertical-align: middle;\n",
       "    }\n",
       "\n",
       "    .dataframe tbody tr th {\n",
       "        vertical-align: top;\n",
       "    }\n",
       "\n",
       "    .dataframe thead th {\n",
       "        text-align: right;\n",
       "    }\n",
       "</style>\n",
       "<table border=\"1\" class=\"dataframe\">\n",
       "  <thead>\n",
       "    <tr style=\"text-align: right;\">\n",
       "      <th></th>\n",
       "      <th>score</th>\n",
       "      <th>ups</th>\n",
       "      <th>downs</th>\n",
       "      <th>num_comments</th>\n",
       "      <th>Ranking</th>\n",
       "    </tr>\n",
       "  </thead>\n",
       "  <tbody>\n",
       "    <tr>\n",
       "      <th>0</th>\n",
       "      <td>100.000000</td>\n",
       "      <td>504.0</td>\n",
       "      <td>62.711864</td>\n",
       "      <td>25.093633</td>\n",
       "      <td>1</td>\n",
       "    </tr>\n",
       "    <tr>\n",
       "      <th>1</th>\n",
       "      <td>75.348837</td>\n",
       "      <td>352.0</td>\n",
       "      <td>23.728814</td>\n",
       "      <td>39.138577</td>\n",
       "      <td>2</td>\n",
       "    </tr>\n",
       "    <tr>\n",
       "      <th>2</th>\n",
       "      <td>72.325581</td>\n",
       "      <td>379.0</td>\n",
       "      <td>57.627119</td>\n",
       "      <td>0.936330</td>\n",
       "      <td>3</td>\n",
       "    </tr>\n",
       "    <tr>\n",
       "      <th>3</th>\n",
       "      <td>69.302326</td>\n",
       "      <td>317.0</td>\n",
       "      <td>16.101695</td>\n",
       "      <td>18.352060</td>\n",
       "      <td>4</td>\n",
       "    </tr>\n",
       "    <tr>\n",
       "      <th>4</th>\n",
       "      <td>68.604651</td>\n",
       "      <td>333.0</td>\n",
       "      <td>32.203390</td>\n",
       "      <td>6.367041</td>\n",
       "      <td>5</td>\n",
       "    </tr>\n",
       "  </tbody>\n",
       "</table>\n",
       "</div>"
      ],
      "text/plain": [
       "        score    ups      downs  num_comments  Ranking\n",
       "0  100.000000  504.0  62.711864     25.093633        1\n",
       "1   75.348837  352.0  23.728814     39.138577        2\n",
       "2   72.325581  379.0  57.627119      0.936330        3\n",
       "3   69.302326  317.0  16.101695     18.352060        4\n",
       "4   68.604651  333.0  32.203390      6.367041        5"
      ]
     },
     "execution_count": 13,
     "metadata": {},
     "output_type": "execute_result"
    }
   ],
   "source": [
    "df1.head(5)"
   ]
  },
  {
   "cell_type": "code",
   "execution_count": 14,
   "metadata": {},
   "outputs": [],
   "source": [
    "df1[\"ups\"]=((df1[\"ups\"]-df1[\"ups\"].min())/(df1[\"ups\"].max()-df1[\"ups\"].min()))*100"
   ]
  },
  {
   "cell_type": "code",
   "execution_count": 15,
   "metadata": {},
   "outputs": [],
   "source": [
    "dataset_ready=df1"
   ]
  },
  {
   "cell_type": "code",
   "execution_count": 16,
   "metadata": {
    "scrolled": true
   },
   "outputs": [
    {
     "data": {
      "text/html": [
       "<div>\n",
       "<style scoped>\n",
       "    .dataframe tbody tr th:only-of-type {\n",
       "        vertical-align: middle;\n",
       "    }\n",
       "\n",
       "    .dataframe tbody tr th {\n",
       "        vertical-align: top;\n",
       "    }\n",
       "\n",
       "    .dataframe thead th {\n",
       "        text-align: right;\n",
       "    }\n",
       "</style>\n",
       "<table border=\"1\" class=\"dataframe\">\n",
       "  <thead>\n",
       "    <tr style=\"text-align: right;\">\n",
       "      <th></th>\n",
       "      <th>score</th>\n",
       "      <th>ups</th>\n",
       "      <th>downs</th>\n",
       "      <th>num_comments</th>\n",
       "      <th>Ranking</th>\n",
       "    </tr>\n",
       "  </thead>\n",
       "  <tbody>\n",
       "    <tr>\n",
       "      <th>0</th>\n",
       "      <td>100.000000</td>\n",
       "      <td>100.000000</td>\n",
       "      <td>62.711864</td>\n",
       "      <td>25.093633</td>\n",
       "      <td>1</td>\n",
       "    </tr>\n",
       "    <tr>\n",
       "      <th>1</th>\n",
       "      <td>75.348837</td>\n",
       "      <td>69.781312</td>\n",
       "      <td>23.728814</td>\n",
       "      <td>39.138577</td>\n",
       "      <td>2</td>\n",
       "    </tr>\n",
       "    <tr>\n",
       "      <th>2</th>\n",
       "      <td>72.325581</td>\n",
       "      <td>75.149105</td>\n",
       "      <td>57.627119</td>\n",
       "      <td>0.936330</td>\n",
       "      <td>3</td>\n",
       "    </tr>\n",
       "    <tr>\n",
       "      <th>3</th>\n",
       "      <td>69.302326</td>\n",
       "      <td>62.823062</td>\n",
       "      <td>16.101695</td>\n",
       "      <td>18.352060</td>\n",
       "      <td>4</td>\n",
       "    </tr>\n",
       "    <tr>\n",
       "      <th>4</th>\n",
       "      <td>68.604651</td>\n",
       "      <td>66.003976</td>\n",
       "      <td>32.203390</td>\n",
       "      <td>6.367041</td>\n",
       "      <td>5</td>\n",
       "    </tr>\n",
       "    <tr>\n",
       "      <th>5</th>\n",
       "      <td>67.209302</td>\n",
       "      <td>63.618290</td>\n",
       "      <td>27.118644</td>\n",
       "      <td>8.801498</td>\n",
       "      <td>6</td>\n",
       "    </tr>\n",
       "    <tr>\n",
       "      <th>6</th>\n",
       "      <td>66.976744</td>\n",
       "      <td>68.190855</td>\n",
       "      <td>47.457627</td>\n",
       "      <td>15.730337</td>\n",
       "      <td>7</td>\n",
       "    </tr>\n",
       "    <tr>\n",
       "      <th>7</th>\n",
       "      <td>66.511628</td>\n",
       "      <td>62.027833</td>\n",
       "      <td>22.881356</td>\n",
       "      <td>61.610487</td>\n",
       "      <td>8</td>\n",
       "    </tr>\n",
       "    <tr>\n",
       "      <th>8</th>\n",
       "      <td>61.395349</td>\n",
       "      <td>56.262425</td>\n",
       "      <td>16.949153</td>\n",
       "      <td>26.029963</td>\n",
       "      <td>9</td>\n",
       "    </tr>\n",
       "    <tr>\n",
       "      <th>9</th>\n",
       "      <td>60.697674</td>\n",
       "      <td>57.256461</td>\n",
       "      <td>23.728814</td>\n",
       "      <td>7.490637</td>\n",
       "      <td>10</td>\n",
       "    </tr>\n",
       "  </tbody>\n",
       "</table>\n",
       "</div>"
      ],
      "text/plain": [
       "        score         ups      downs  num_comments  Ranking\n",
       "0  100.000000  100.000000  62.711864     25.093633        1\n",
       "1   75.348837   69.781312  23.728814     39.138577        2\n",
       "2   72.325581   75.149105  57.627119      0.936330        3\n",
       "3   69.302326   62.823062  16.101695     18.352060        4\n",
       "4   68.604651   66.003976  32.203390      6.367041        5\n",
       "5   67.209302   63.618290  27.118644      8.801498        6\n",
       "6   66.976744   68.190855  47.457627     15.730337        7\n",
       "7   66.511628   62.027833  22.881356     61.610487        8\n",
       "8   61.395349   56.262425  16.949153     26.029963        9\n",
       "9   60.697674   57.256461  23.728814      7.490637       10"
      ]
     },
     "execution_count": 16,
     "metadata": {},
     "output_type": "execute_result"
    }
   ],
   "source": [
    "dataset_ready.head(10)"
   ]
  },
  {
   "cell_type": "code",
   "execution_count": 17,
   "metadata": {},
   "outputs": [],
   "source": [
    "# applying algorithms"
   ]
  },
  {
   "cell_type": "code",
   "execution_count": 18,
   "metadata": {},
   "outputs": [
    {
     "data": {
      "text/html": [
       "<div>\n",
       "<style scoped>\n",
       "    .dataframe tbody tr th:only-of-type {\n",
       "        vertical-align: middle;\n",
       "    }\n",
       "\n",
       "    .dataframe tbody tr th {\n",
       "        vertical-align: top;\n",
       "    }\n",
       "\n",
       "    .dataframe thead th {\n",
       "        text-align: right;\n",
       "    }\n",
       "</style>\n",
       "<table border=\"1\" class=\"dataframe\">\n",
       "  <thead>\n",
       "    <tr style=\"text-align: right;\">\n",
       "      <th></th>\n",
       "      <th>score</th>\n",
       "      <th>ups</th>\n",
       "      <th>downs</th>\n",
       "      <th>num_comments</th>\n",
       "    </tr>\n",
       "  </thead>\n",
       "  <tbody>\n",
       "    <tr>\n",
       "      <th>0</th>\n",
       "      <td>100.000000</td>\n",
       "      <td>100.000000</td>\n",
       "      <td>62.711864</td>\n",
       "      <td>25.093633</td>\n",
       "    </tr>\n",
       "    <tr>\n",
       "      <th>1</th>\n",
       "      <td>75.348837</td>\n",
       "      <td>69.781312</td>\n",
       "      <td>23.728814</td>\n",
       "      <td>39.138577</td>\n",
       "    </tr>\n",
       "    <tr>\n",
       "      <th>2</th>\n",
       "      <td>72.325581</td>\n",
       "      <td>75.149105</td>\n",
       "      <td>57.627119</td>\n",
       "      <td>0.936330</td>\n",
       "    </tr>\n",
       "    <tr>\n",
       "      <th>3</th>\n",
       "      <td>69.302326</td>\n",
       "      <td>62.823062</td>\n",
       "      <td>16.101695</td>\n",
       "      <td>18.352060</td>\n",
       "    </tr>\n",
       "    <tr>\n",
       "      <th>4</th>\n",
       "      <td>68.604651</td>\n",
       "      <td>66.003976</td>\n",
       "      <td>32.203390</td>\n",
       "      <td>6.367041</td>\n",
       "    </tr>\n",
       "    <tr>\n",
       "      <th>5</th>\n",
       "      <td>67.209302</td>\n",
       "      <td>63.618290</td>\n",
       "      <td>27.118644</td>\n",
       "      <td>8.801498</td>\n",
       "    </tr>\n",
       "    <tr>\n",
       "      <th>6</th>\n",
       "      <td>66.976744</td>\n",
       "      <td>68.190855</td>\n",
       "      <td>47.457627</td>\n",
       "      <td>15.730337</td>\n",
       "    </tr>\n",
       "    <tr>\n",
       "      <th>7</th>\n",
       "      <td>66.511628</td>\n",
       "      <td>62.027833</td>\n",
       "      <td>22.881356</td>\n",
       "      <td>61.610487</td>\n",
       "    </tr>\n",
       "    <tr>\n",
       "      <th>8</th>\n",
       "      <td>61.395349</td>\n",
       "      <td>56.262425</td>\n",
       "      <td>16.949153</td>\n",
       "      <td>26.029963</td>\n",
       "    </tr>\n",
       "    <tr>\n",
       "      <th>9</th>\n",
       "      <td>60.697674</td>\n",
       "      <td>57.256461</td>\n",
       "      <td>23.728814</td>\n",
       "      <td>7.490637</td>\n",
       "    </tr>\n",
       "  </tbody>\n",
       "</table>\n",
       "</div>"
      ],
      "text/plain": [
       "        score         ups      downs  num_comments\n",
       "0  100.000000  100.000000  62.711864     25.093633\n",
       "1   75.348837   69.781312  23.728814     39.138577\n",
       "2   72.325581   75.149105  57.627119      0.936330\n",
       "3   69.302326   62.823062  16.101695     18.352060\n",
       "4   68.604651   66.003976  32.203390      6.367041\n",
       "5   67.209302   63.618290  27.118644      8.801498\n",
       "6   66.976744   68.190855  47.457627     15.730337\n",
       "7   66.511628   62.027833  22.881356     61.610487\n",
       "8   61.395349   56.262425  16.949153     26.029963\n",
       "9   60.697674   57.256461  23.728814      7.490637"
      ]
     },
     "execution_count": 18,
     "metadata": {},
     "output_type": "execute_result"
    }
   ],
   "source": [
    "df1 = df1.drop([\"Ranking\"],axis=1)\n",
    "df1.head(10)"
   ]
  },
  {
   "cell_type": "code",
   "execution_count": 19,
   "metadata": {},
   "outputs": [
    {
     "data": {
      "image/png": "[encoded data removed]",
      "text/plain": [
       "<Figure size 432x288 with 1 Axes>"
      ]
     },
     "metadata": {
      "needs_background": "light"
     },
     "output_type": "display_data"
    }
   ],
   "source": [
    "ax1 = df1.plot.scatter(x='score',y='ups',c='DarkBlue')"
   ]
  },
  {
   "cell_type": "code",
   "execution_count": 20,
   "metadata": {},
   "outputs": [
    {
     "data": {
      "image/png": "[encoded data removed]",
      "text/plain": [
       "<Figure size 432x288 with 1 Axes>"
      ]
     },
     "metadata": {
      "needs_background": "light"
     },
     "output_type": "display_data"
    }
   ],
   "source": [
    "ax1 = df1.plot.scatter(x='score',y='downs',c='DarkBlue')"
   ]
  },
  {
   "cell_type": "code",
   "execution_count": 21,
   "metadata": {},
   "outputs": [
    {
     "data": {
      "image/png": "[encoded data removed]",
      "text/plain": [
       "<Figure size 432x288 with 1 Axes>"
      ]
     },
     "metadata": {
      "needs_background": "light"
     },
     "output_type": "display_data"
    }
   ],
   "source": [
    "ax1 = df1.plot.scatter(x='score',y='num_comments',c='DarkBlue')"
   ]
  },
  {
   "cell_type": "code",
   "execution_count": 22,
   "metadata": {},
   "outputs": [],
   "source": [
    "df1 = df1.rename(columns={'num_comments':'comments'})"
   ]
  },
  {
   "cell_type": "code",
   "execution_count": 23,
   "metadata": {},
   "outputs": [
    {
     "data": {
      "text/html": [
       "<div>\n",
       "<style scoped>\n",
       "    .dataframe tbody tr th:only-of-type {\n",
       "        vertical-align: middle;\n",
       "    }\n",
       "\n",
       "    .dataframe tbody tr th {\n",
       "        vertical-align: top;\n",
       "    }\n",
       "\n",
       "    .dataframe thead th {\n",
       "        text-align: right;\n",
       "    }\n",
       "</style>\n",
       "<table border=\"1\" class=\"dataframe\">\n",
       "  <thead>\n",
       "    <tr style=\"text-align: right;\">\n",
       "      <th></th>\n",
       "      <th>score</th>\n",
       "      <th>ups</th>\n",
       "      <th>downs</th>\n",
       "      <th>comments</th>\n",
       "    </tr>\n",
       "  </thead>\n",
       "  <tbody>\n",
       "    <tr>\n",
       "      <th>0</th>\n",
       "      <td>100.000000</td>\n",
       "      <td>100.000000</td>\n",
       "      <td>62.711864</td>\n",
       "      <td>25.093633</td>\n",
       "    </tr>\n",
       "    <tr>\n",
       "      <th>1</th>\n",
       "      <td>75.348837</td>\n",
       "      <td>69.781312</td>\n",
       "      <td>23.728814</td>\n",
       "      <td>39.138577</td>\n",
       "    </tr>\n",
       "    <tr>\n",
       "      <th>2</th>\n",
       "      <td>72.325581</td>\n",
       "      <td>75.149105</td>\n",
       "      <td>57.627119</td>\n",
       "      <td>0.936330</td>\n",
       "    </tr>\n",
       "    <tr>\n",
       "      <th>3</th>\n",
       "      <td>69.302326</td>\n",
       "      <td>62.823062</td>\n",
       "      <td>16.101695</td>\n",
       "      <td>18.352060</td>\n",
       "    </tr>\n",
       "    <tr>\n",
       "      <th>4</th>\n",
       "      <td>68.604651</td>\n",
       "      <td>66.003976</td>\n",
       "      <td>32.203390</td>\n",
       "      <td>6.367041</td>\n",
       "    </tr>\n",
       "    <tr>\n",
       "      <th>5</th>\n",
       "      <td>67.209302</td>\n",
       "      <td>63.618290</td>\n",
       "      <td>27.118644</td>\n",
       "      <td>8.801498</td>\n",
       "    </tr>\n",
       "    <tr>\n",
       "      <th>6</th>\n",
       "      <td>66.976744</td>\n",
       "      <td>68.190855</td>\n",
       "      <td>47.457627</td>\n",
       "      <td>15.730337</td>\n",
       "    </tr>\n",
       "    <tr>\n",
       "      <th>7</th>\n",
       "      <td>66.511628</td>\n",
       "      <td>62.027833</td>\n",
       "      <td>22.881356</td>\n",
       "      <td>61.610487</td>\n",
       "    </tr>\n",
       "    <tr>\n",
       "      <th>8</th>\n",
       "      <td>61.395349</td>\n",
       "      <td>56.262425</td>\n",
       "      <td>16.949153</td>\n",
       "      <td>26.029963</td>\n",
       "    </tr>\n",
       "    <tr>\n",
       "      <th>9</th>\n",
       "      <td>60.697674</td>\n",
       "      <td>57.256461</td>\n",
       "      <td>23.728814</td>\n",
       "      <td>7.490637</td>\n",
       "    </tr>\n",
       "  </tbody>\n",
       "</table>\n",
       "</div>"
      ],
      "text/plain": [
       "        score         ups      downs   comments\n",
       "0  100.000000  100.000000  62.711864  25.093633\n",
       "1   75.348837   69.781312  23.728814  39.138577\n",
       "2   72.325581   75.149105  57.627119   0.936330\n",
       "3   69.302326   62.823062  16.101695  18.352060\n",
       "4   68.604651   66.003976  32.203390   6.367041\n",
       "5   67.209302   63.618290  27.118644   8.801498\n",
       "6   66.976744   68.190855  47.457627  15.730337\n",
       "7   66.511628   62.027833  22.881356  61.610487\n",
       "8   61.395349   56.262425  16.949153  26.029963\n",
       "9   60.697674   57.256461  23.728814   7.490637"
      ]
     },
     "execution_count": 23,
     "metadata": {},
     "output_type": "execute_result"
    }
   ],
   "source": [
    "df1.head(10)"
   ]
  },
  {
   "cell_type": "code",
   "execution_count": 24,
   "metadata": {},
   "outputs": [],
   "source": [
    "x = df1[['ups', 'downs', 'comments']] #predictor variables\n",
    "y = df1[['score']] #target variables"
   ]
  },
  {
   "cell_type": "code",
   "execution_count": 25,
   "metadata": {},
   "outputs": [],
   "source": [
    "y = df1[['score']] #target variables"
   ]
  },
  {
   "cell_type": "code",
   "execution_count": 26,
   "metadata": {},
   "outputs": [
    {
     "data": {
      "text/plain": [
       "709"
      ]
     },
     "execution_count": 26,
     "metadata": {},
     "output_type": "execute_result"
    }
   ],
   "source": [
    "#splitting the dataset\n",
    "split_percentage = 0.7\n",
    "split = int(split_percentage*len(df1))\n",
    "\n",
    "xtrain = x[:split]\n",
    "ytrain = y[:split]\n",
    "\n",
    "xtest = x[split:]\n",
    "ytest = y[split:]\n",
    "\n",
    "\n",
    "xtest['ups'].index[10]"
   ]
  },
  {
   "cell_type": "code",
   "execution_count": 27,
   "metadata": {},
   "outputs": [
    {
     "data": {
      "image/png": "[encoded data removed]",
      "text/plain": [
       "<Figure size 432x288 with 1 Axes>"
      ]
     },
     "metadata": {
      "needs_background": "light"
     },
     "output_type": "display_data"
    }
   ],
   "source": [
    "ups = xtrain['ups'].values\n",
    "downs = xtrain['downs'].values\n",
    "score = ytrain['score'].values\n",
    "comments = xtrain['comments'].values\n",
    "\n",
    "fig = plt.figure()\n",
    "ax = Axes3D(fig)\n",
    "ax.scatter(ups, downs, score, color='#ef1234')\n",
    "plt.show()\n"
   ]
  },
  {
   "cell_type": "code",
   "execution_count": 28,
   "metadata": {},
   "outputs": [],
   "source": [
    "m = len(ups)\n",
    "x0 = np.ones(m) #array of size m filled with one's\n",
    "X = np.array([x0,ups,downs,comments]).T\n",
    "# Initial Coefficients\n",
    "B = np.array([0, 0, 0, 0])\n",
    "Y = np.array(score)\n",
    "alpha = 0.0000001"
   ]
  },
  {
   "cell_type": "code",
   "execution_count": 29,
   "metadata": {},
   "outputs": [],
   "source": [
    "def cost_function(X, Y, B):\n",
    "    m = len(Y)\n",
    "    J = np.sum((X.dot(B) - Y) ** 2)/(2 * m)\n",
    "    return J"
   ]
  },
  {
   "cell_type": "code",
   "execution_count": 30,
   "metadata": {},
   "outputs": [
    {
     "name": "stdout",
     "output_type": "stream",
     "text": [
      "131.0301512397762\n"
     ]
    }
   ],
   "source": [
    "inital_cost = cost_function(X, Y, B)\n",
    "print(inital_cost)"
   ]
  },
  {
   "cell_type": "code",
   "execution_count": 31,
   "metadata": {},
   "outputs": [],
   "source": [
    "def gradient_descent(X, Y, B, alpha, iterations):\n",
    "    cost_history = [0] * iterations\n",
    "    m = len(Y)\n",
    "    \n",
    "    for iteration in range(iterations):\n",
    "        # Hypothesis Values\n",
    "        h = X.dot(B)\n",
    "        # Difference b/w Hypothesis and Actual Y\n",
    "        loss = h - Y\n",
    "        # Gradient Calculation\n",
    "        gradient = X.T.dot(loss) / m\n",
    "        # Changing Values of B using Gradient\n",
    "        B = B - alpha * gradient\n",
    "        # New Cost Value\n",
    "        cost = cost_function(X, Y, B)\n",
    "        cost_history[iteration] = cost\n",
    "        \n",
    "    return B, cost_history"
   ]
  },
  {
   "cell_type": "code",
   "execution_count": 32,
   "metadata": {},
   "outputs": [
    {
     "name": "stdout",
     "output_type": "stream",
     "text": [
      "[0.02335316 0.7299094  0.18254577 0.17998611]\n",
      "8.173323496941917\n"
     ]
    }
   ],
   "source": [
    "# 100000 Iterations\n",
    "newB, cost_history = gradient_descent(X, Y, B, alpha, 100000)\n",
    "\n",
    "# New Values of B\n",
    "print(newB)\n",
    "\n",
    "# Final Cost of new B\n",
    "print(cost_history[-1])"
   ]
  },
  {
   "cell_type": "code",
   "execution_count": 33,
   "metadata": {},
   "outputs": [],
   "source": [
    "#score = 0.21558522 + "
   ]
  },
  {
   "cell_type": "code",
   "execution_count": 34,
   "metadata": {},
   "outputs": [
    {
     "name": "stdout",
     "output_type": "stream",
     "text": [
      "4.043098687131423\n",
      "0.8846639240250102\n"
     ]
    }
   ],
   "source": [
    "# Model Evaluation - RMSE\n",
    "def rmse(Y, Y_pred):\n",
    "    rmse = np.sqrt(sum((Y - Y_pred) ** 2) / len(Y))\n",
    "    return rmse\n",
    "\n",
    "# Model Evaluation - R2 Score\n",
    "def r2_score(Y, Y_pred):\n",
    "    mean_y = np.mean(Y)\n",
    "    ss_tot = sum((Y - mean_y) ** 2)\n",
    "    ss_res = sum((Y - Y_pred) ** 2)\n",
    "    r2 = 1 - (ss_res / ss_tot)\n",
    "    return r2\n",
    "\n",
    "Y_pred = X.dot(newB)\n",
    "\n",
    "print(rmse(Y, Y_pred))\n",
    "print(r2_score(Y, Y_pred))"
   ]
  },
  {
   "cell_type": "code",
   "execution_count": 35,
   "metadata": {},
   "outputs": [
    {
     "name": "stdout",
     "output_type": "stream",
     "text": [
      "0.614096455163454\n"
     ]
    }
   ],
   "source": [
    "sumofsquares = 0\n",
    "sumofresiduals = 0\n",
    "mean_y = np.mean(Y)\n",
    "for i in range(len(xtest)) :\n",
    "    y_pred = newB[1] + newB[3]*xtest['ups'].index[i] + newB[0]*xtest['downs'].index[i] + newB[2]*xtest['comments'].index[i]\n",
    "    sumofsquares += (ytest.index[i] - mean_y) ** 2\n",
    "    sumofresiduals += (ytest.index[i] - y_pred) **2\n",
    "    \n",
    "score  = 1 - (sumofresiduals/sumofsquares)\n",
    "print(score)\n",
    "\n"
   ]
  },
  {
   "cell_type": "code",
   "execution_count": 36,
   "metadata": {},
   "outputs": [],
   "source": [
    " #splitting test and dataset randomly"
   ]
  },
  {
   "cell_type": "code",
   "execution_count": 37,
   "metadata": {},
   "outputs": [],
   "source": [
    "from sklearn.model_selection import cross_val_score\n",
    "from sklearn.model_selection import train_test_split\n",
    "x = df1[['ups', 'downs', 'comments']] #predictor variables\n",
    "y = df1[['score']] #target variables\n",
    "X_train, X_test, Y_train, Y_test = train_test_split(x,y,test_size=0.33, random_state=5)"
   ]
  },
  {
   "cell_type": "code",
   "execution_count": 38,
   "metadata": {},
   "outputs": [],
   "source": [
    "ups = X_train['ups'].values\n",
    "downs = X_train['downs'].values\n",
    "score = Y_train['score'].values\n",
    "comments = X_train['comments'].values"
   ]
  },
  {
   "cell_type": "code",
   "execution_count": 39,
   "metadata": {},
   "outputs": [],
   "source": [
    "def cost_function(X, Y, B):\n",
    "    m = len(Y)\n",
    "    J = np.sum((X.dot(B) - Y) ** 2)/(2 * m)\n",
    "    return J"
   ]
  },
  {
   "cell_type": "code",
   "execution_count": 40,
   "metadata": {},
   "outputs": [
    {
     "name": "stdout",
     "output_type": "stream",
     "text": [
      "131.0301512397762\n"
     ]
    }
   ],
   "source": [
    "inital_cost = cost_function(X, Y, B)\n",
    "print(inital_cost)"
   ]
  },
  {
   "cell_type": "code",
   "execution_count": 41,
   "metadata": {},
   "outputs": [],
   "source": [
    "def gradient_descent(X, Y, B, alpha, iterations):\n",
    "    cost_history = [0] * iterations\n",
    "    m = len(Y)\n",
    "    \n",
    "    for iteration in range(iterations):\n",
    "        # Hypothesis Values\n",
    "        h = X.dot(B)\n",
    "        # Difference b/w Hypothesis and Actual Y\n",
    "        loss = h - Y\n",
    "        # Gradient Calculation\n",
    "        gradient = X.T.dot(loss) / m\n",
    "        # Changing Values of B using Gradient\n",
    "        B = B - alpha * gradient\n",
    "        # New Cost Value\n",
    "        cost = cost_function(X, Y, B)\n",
    "        cost_history[iteration] = cost\n",
    "        \n",
    "    return B, cost_history"
   ]
  },
  {
   "cell_type": "code",
   "execution_count": 42,
   "metadata": {},
   "outputs": [
    {
     "name": "stdout",
     "output_type": "stream",
     "text": [
      "[0.02335316 0.7299094  0.18254577 0.17998611]\n",
      "8.173323496941917\n"
     ]
    }
   ],
   "source": [
    "# 100000 Iterations\n",
    "newB, cost_history = gradient_descent(X, Y, B, alpha, 100000)\n",
    "\n",
    "# New Values of B\n",
    "print(newB)\n",
    "\n",
    "# Final Cost of new B\n",
    "print(cost_history[-1])"
   ]
  },
  {
   "cell_type": "code",
   "execution_count": 43,
   "metadata": {},
   "outputs": [],
   "source": [
    "#score = 0.21558522 + "
   ]
  },
  {
   "cell_type": "code",
   "execution_count": 44,
   "metadata": {},
   "outputs": [
    {
     "data": {
      "image/png": "[encoded data removed]",
      "text/plain": [
       "<Figure size 432x288 with 1 Axes>"
      ]
     },
     "metadata": {
      "needs_background": "light"
     },
     "output_type": "display_data"
    },
    {
     "name": "stdout",
     "output_type": "stream",
     "text": [
      "4.043098687131423\n",
      "0.8846639240250102\n"
     ]
    }
   ],
   "source": [
    "# Model Evaluation - RMSE\n",
    "def rmse(Y, Y_pred):\n",
    "    rmse = np.sqrt(sum((Y - Y_pred) ** 2) / len(Y))\n",
    "    return rmse\n",
    "\n",
    "# Model Evaluation - R2 Score\n",
    "def r2_score(Y, Y_pred):\n",
    "    mean_y = np.mean(Y)\n",
    "    ss_tot = sum((Y - mean_y) ** 2)\n",
    "    ss_res = sum((Y - Y_pred) ** 2)\n",
    "    r2 = 1 - (ss_res / ss_tot)\n",
    "    return r2\n",
    "\n",
    "\n",
    "Y_pred = X.dot(newB)\n",
    "\n",
    "plt.plot(Y, 'ro', Y_pred, 'g^')\n",
    "plt.ylabel('Y')\n",
    "plt.xlabel('ypred')\n",
    "plt.show()\n",
    "\n",
    "print(rmse(Y, Y_pred))\n",
    "print(r2_score(Y, Y_pred))"
   ]
  },
  {
   "cell_type": "code",
   "execution_count": 45,
   "metadata": {},
   "outputs": [
    {
     "name": "stdout",
     "output_type": "stream",
     "text": [
      "61.4096455163454\n"
     ]
    },
    {
     "data": {
      "image/png": "[encoded data removed]",
      "text/plain": [
       "<Figure size 432x288 with 1 Axes>"
      ]
     },
     "metadata": {
      "needs_background": "light"
     },
     "output_type": "display_data"
    }
   ],
   "source": [
    "sumofsquares = 0\n",
    "sumofresiduals = 0\n",
    "ypred=[]\n",
    "mean_y = np.mean(Y)\n",
    "for i in range(len(xtest)) :\n",
    "    y_pred = newB[1] + newB[0]*xtest['ups'].index[i] + newB[3]*xtest['downs'].index[i] + newB[2]*xtest['comments'].index[i]\n",
    "    sumofsquares += (ytest.index[i] - mean_y) ** 2\n",
    "    sumofresiduals += (ytest.index[i] - y_pred) **2\n",
    "    ypred.append(y_pred)\n",
    "    \n",
    "\n",
    "score  = 1 - (sumofresiduals/sumofsquares)\n",
    "print(score*100)\n",
    "plt.plot(ytest, ypred, 'ro')\n",
    "plt.ylabel('ytest')\n",
    "plt.xlabel('ypred')\n",
    "plt.show()"
   ]
  },
  {
   "cell_type": "code",
   "execution_count": 47,
   "metadata": {},
   "outputs": [
    {
     "name": "stdout",
     "output_type": "stream",
     "text": [
      "18.372093023255815\n",
      "0x10c's 3D artist's previous works\n",
      "18.6046511627907\n",
      "N00B Friendly Drag and Drop 'Board Builder' Programming Concept for 0x10c + Pics\n"
     ]
    }
   ],
   "source": [
    "ups= 90\n",
    "downs= 10\n",
    "comments= 2\n",
    "y_pred = newB[1] + newB[3]*ups + newB[2]*downs + newB[0]*comments\n",
    "df = pd.read_csv(\"0x10c.csv\")\n",
    "df[\"score\"]=((df[\"score\"]-df[\"score\"].min())/(df[\"score\"].max()-df[\"score\"].min()))*100\n",
    "for i in range(m):\n",
    "    if(int(y_pred) == int(df1['score'][i])):\n",
    "        print(df1['score'][i])\n",
    "        print(df['title'][i])\n",
    "\n"
   ]
  },
  {
   "cell_type": "code",
   "execution_count": 48,
   "metadata": {},
   "outputs": [
    {
     "name": "stdout",
     "output_type": "stream",
     "text": [
      "76.33329475942273\n"
     ]
    },
    {
     "data": {
      "image/png": "[encoded data removed]",
      "text/plain": [
       "<Figure size 432x288 with 1 Axes>"
      ]
     },
     "metadata": {
      "needs_background": "light"
     },
     "output_type": "display_data"
    }
   ],
   "source": [
    "#RANDOM FORESTS\n",
    "from sklearn.ensemble import RandomForestRegressor\n",
    "from sklearn.datasets import make_regression\n",
    "xtrain, ytrain = make_regression(n_features=3, n_informative=3,random_state=5, shuffle=False)\n",
    "regr = RandomForestRegressor(max_depth=2, random_state=5,n_estimators=1000)\n",
    "regr.fit(xtrain, ytrain)\n",
    "print(regr.score(xtrain,ytrain)*100)\n",
    "ypred =regr.predict(xtest)\n",
    "plt.plot(ytest, ypred, 'g^')\n",
    "plt.ylabel('ytest')\n",
    "plt.xlabel('ypred')\n",
    "plt.show()\n",
    "#ups= 9 \n",
    "#downs= 10\n",
    "#comments= 2\n",
    "#ypred=regr.predict([[ups,downs,comments]])\n",
    "#print(ypred[0])\n",
    "#df1 = pd.read_csv(\"/home/amrita/ML_project/reddit-top-2.5-million/data/0x10c.csv\")\n",
    "#df[\"score\"]=((df[\"score\"]-df[\"score\"].min())/(df[\"score\"].max()-df[\"score\"].min()))*100\n",
    "#for i in range(m):\n",
    "    #if(int(ypred[0]) == int(df1['score'][i])):\n",
    "        #print(df1['score'][i])\n",
    "        #print(df['title'][i])\n",
    "        \n",
    "\n",
    "\n",
    "\n",
    "\n",
    "\n"
   ]
  },
  {
   "cell_type": "code",
   "execution_count": 49,
   "metadata": {},
   "outputs": [
    {
     "data": {
      "image/png": "[encoded data removed]",
      "text/plain": [
       "<Figure size 432x288 with 1 Axes>"
      ]
     },
     "metadata": {
      "needs_background": "light"
     },
     "output_type": "display_data"
    },
    {
     "name": "stdout",
     "output_type": "stream",
     "text": [
      "99.98971579556977\n"
     ]
    }
   ],
   "source": [
    "#RIDGE REGRESSION\n",
    "from sklearn.linear_model import Ridge\n",
    "import numpy as np\n",
    "n_samples, n_features = 1000,3\n",
    "clf = Ridge(alpha=1.0)\n",
    "clf.fit(xtrain,ytrain)\n",
    "Ridge(alpha=0.00001, copy_X=True, fit_intercept=True, max_iter=None,\n",
    "      normalize=True,random_state=5,solver='auto',tol=0.001)\n",
    "clf.score(xtrain,ytrain)\n",
    "ypred =clf.predict(xtest)\n",
    "plt.plot(ytest, ypred, 'g^')\n",
    "plt.ylabel('ytest')\n",
    "plt.xlabel('ypred')\n",
    "plt.show()\n",
    "print(clf.score(xtrain,ytrain)*100)\n"
   ]
  },
  {
   "cell_type": "code",
   "execution_count": null,
   "metadata": {},
   "outputs": [],
   "source": []
  },
  {
   "cell_type": "code",
   "execution_count": null,
   "metadata": {},
   "outputs": [],
   "source": []
  },
  {
   "cell_type": "code",
   "execution_count": null,
   "metadata": {},
   "outputs": [],
   "source": []
  },
  {
   "cell_type": "code",
   "execution_count": null,
   "metadata": {},
   "outputs": [],
   "source": []
  }
 ],
 "metadata": {
  "kernelspec": {
   "display_name": "Python 3",
   "language": "python",
   "name": "python3"
  },
  "language_info": {
   "codemirror_mode": {
    "name": "ipython",
    "version": 3
   },
   "file_extension": ".py",
   "mimetype": "text/x-python",
   "name": "python",
   "nbconvert_exporter": "python",
   "pygments_lexer": "ipython3",
   "version": "3.8.3"
  }
 },
 "nbformat": 4,
 "nbformat_minor": 2
}
